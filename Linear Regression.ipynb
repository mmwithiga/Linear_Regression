{
 "cells": [
  {
   "cell_type": "code",
   "execution_count": 1,
   "id": "4639c4d5",
   "metadata": {},
   "outputs": [],
   "source": [
    "import pandas as pd\n",
    "import numpy as np\n",
    "import matplotlib.pyplot as plt\n",
    "\n"
   ]
  },
  {
   "cell_type": "code",
   "execution_count": 2,
   "id": "e4fb3ba0",
   "metadata": {},
   "outputs": [],
   "source": [
    "# Load and prepare the data\n",
    "def load_data(filename):\n",
    "    df = pd.read_csv(filename)\n",
    "    X = df['SIZE'].values\n",
    "    y = df['PRICE'].values\n",
    "    return X, y\n",
    "\n",
    "def mean_squared_error(y_true, y_pred):\n",
    "    \"\"\"\n",
    "    Compute Mean Squared Error between true values and predictions\n",
    "    \n",
    "    Args:\n",
    "        y_true: Array of true values\n",
    "        y_pred: Array of predicted values\n",
    "    \n",
    "    Returns:\n",
    "        float: Mean squared error value\n",
    "    \"\"\"\n",
    "    return np.mean((y_true - y_pred) ** 2)\n",
    "\n",
    "def gradient_descent(X, y, m, c, learning_rate):\n",
    "    \"\"\"\n",
    "    Perform one step of gradient descent to update weights\n",
    "    \n",
    "    Args:\n",
    "        X: Input features (office sizes)\n",
    "        y: Target values (office prices)\n",
    "        m: Current slope\n",
    "        c: Current y-intercept\n",
    "        learning_rate: Learning rate for gradient descent\n",
    "    \n",
    "    Returns:\n",
    "        tuple: Updated slope and y-intercept\n",
    "    \"\"\"\n",
    "    N = len(X)\n",
    "    y_pred = m * X + c\n",
    "    \n",
    "    # Calculate gradients\n",
    "    dm = (-2/N) * np.sum(X * (y - y_pred))\n",
    "    dc = (-2/N) * np.sum(y - y_pred)\n",
    "    \n",
    "    # Update parameters\n",
    "    m = m - learning_rate * dm\n",
    "    c = c - learning_rate * dc\n",
    "    \n",
    "    return m, c\n",
    "\n"
   ]
  },
  {
   "cell_type": "code",
   "execution_count": 3,
   "id": "a4171c78",
   "metadata": {},
   "outputs": [],
   "source": [
    "def train_model(X, y, epochs=10, learning_rate=0.0001):\n",
    "    \"\"\"\n",
    "    Train the linear regression model using gradient descent\n",
    "    \n",
    "    Args:\n",
    "        X: Input features (office sizes)\n",
    "        y: Target values (office prices)\n",
    "        epochs: Number of training epochs\n",
    "        learning_rate: Learning rate for gradient descent\n",
    "    \n",
    "    Returns:\n",
    "        tuple: Final slope and y-intercept\n",
    "    \"\"\"\n",
    "    # Initialize random weights\n",
    "    m = np.random.randn()\n",
    "    c = np.random.randn()\n",
    "    \n",
    "    print(\"Initial parameters: m =\", m, \", c =\", c)\n",
    "    print(\"\\nTraining Progress:\")\n",
    "    print(\"-----------------\")\n",
    "    \n",
    "    for epoch in range(epochs):\n",
    "        # Make predictions\n",
    "        y_pred = m * X + c\n",
    "        \n",
    "        # Calculate error\n",
    "        error = mean_squared_error(y, y_pred)\n",
    "        print(f\"Epoch {epoch + 1}: MSE = {error:.4f}\")\n",
    "        \n",
    "        # Update parameters using gradient descent\n",
    "        m, c = gradient_descent(X, y, m, c, learning_rate)\n",
    "    \n",
    "    return m, c\n",
    "\n",
    "def plot_regression_line(X, y, m, c):\n",
    "    \"\"\"\n",
    "    Plot the data points and the regression line\n",
    "    \n",
    "    Args:\n",
    "        X: Input features (office sizes)\n",
    "        y: Target values (office prices)\n",
    "        m: Slope of the line\n",
    "        c: Y-intercept of the line\n",
    "    \"\"\"\n",
    "    plt.figure(figsize=(10, 6))\n",
    "    plt.scatter(X, y, color='blue', label='Data points')\n",
    "    \n",
    "    # Generate points for the regression line\n",
    "    X_line = np.array([min(X), max(X)])\n",
    "    y_line = m * X_line + c\n",
    "    plt.plot(X_line, y_line, color='red', label='Regression line')\n",
    "    \n",
    "    plt.xlabel('Office Size (sq. ft.)')\n",
    "    plt.ylabel('Office Price')\n",
    "    plt.title('Linear Regression: Office Price vs Size')\n",
    "    plt.legend()\n",
    "    plt.grid(True)\n",
    "    plt.show()\n",
    "\n"
   ]
  },
  {
   "cell_type": "code",
   "execution_count": 4,
   "id": "d8fa1481",
   "metadata": {},
   "outputs": [
    {
     "name": "stdout",
     "output_type": "stream",
     "text": [
      "Starting training...\n",
      "Initial parameters: m = -0.698911244322886 , c = -2.3263323167589287\n",
      "\n",
      "Training Progress:\n",
      "-----------------\n",
      "Epoch 1: MSE = 11581.6349\n",
      "Epoch 2: MSE = 2745.3397\n",
      "Epoch 3: MSE = 694.8787\n",
      "Epoch 4: MSE = 219.0696\n",
      "Epoch 5: MSE = 108.6581\n",
      "Epoch 6: MSE = 83.0372\n",
      "Epoch 7: MSE = 77.0918\n",
      "Epoch 8: MSE = 75.7122\n",
      "Epoch 9: MSE = 75.3921\n",
      "Epoch 10: MSE = 75.3178\n",
      "\n",
      "Final parameters: m = 1.4064405259310024 , c = -2.285287313580419\n"
     ]
    },
    {
     "data": {
      "image/png": "[encoded data removed]",
      "text/plain": [
       "<Figure size 1000x600 with 1 Axes>"
      ]
     },
     "metadata": {},
     "output_type": "display_data"
    },
    {
     "name": "stdout",
     "output_type": "stream",
     "text": [
      "\n",
      "Predicted price for office size 100 sq. ft.: 138.36\n"
     ]
    }
   ],
   "source": [
    "# Main execution\n",
    "if __name__ == \"__main__\":\n",
    "    # Load the data\n",
    "    X, y = load_data('Nairobi Office Price Ex.csv')\n",
    "    \n",
    "    # Train the model\n",
    "    print(\"Starting training...\")\n",
    "    final_m, final_c = train_model(X, y)\n",
    "    print(\"\\nFinal parameters: m =\", final_m, \", c =\", final_c)\n",
    "    \n",
    "    # Plot the regression line\n",
    "    plot_regression_line(X, y, final_m, final_c)\n",
    "    \n",
    "    # Predict price for 100 sq. ft.\n",
    "    test_size = 100\n",
    "    predicted_price = final_m * test_size + final_c\n",
    "    print(f\"\\nPredicted price for office size {test_size} sq. ft.: {predicted_price:.2f}\")\n"
   ]
  },
  {
   "cell_type": "code",
   "execution_count": null,
   "id": "3a65dd58",
   "metadata": {},
   "outputs": [],
   "source": []
  },
  {
   "cell_type": "code",
   "execution_count": null,
   "id": "2dfe2d3a",
   "metadata": {},
   "outputs": [],
   "source": []
  },
  {
   "cell_type": "code",
   "execution_count": null,
   "id": "ca6b8e78",
   "metadata": {},
   "outputs": [],
   "source": []
  },
  {
   "cell_type": "code",
   "execution_count": null,
   "id": "4b92ba4b",
   "metadata": {},
   "outputs": [],
   "source": []
  },
  {
   "cell_type": "code",
   "execution_count": null,
   "id": "3d449279",
   "metadata": {},
   "outputs": [],
   "source": []
  },
  {
   "cell_type": "code",
   "execution_count": null,
   "id": "9d5b08f1",
   "metadata": {},
   "outputs": [],
   "source": []
  },
  {
   "cell_type": "code",
   "execution_count": null,
   "id": "4f9b31a9",
   "metadata": {},
   "outputs": [],
   "source": []
  },
  {
   "cell_type": "code",
   "execution_count": null,
   "id": "bb630211",
   "metadata": {},
   "outputs": [],
   "source": []
  },
  {
   "cell_type": "code",
   "execution_count": null,
   "id": "8c691133",
   "metadata": {},
   "outputs": [],
   "source": []
  },
  {
   "cell_type": "code",
   "execution_count": null,
   "id": "9f5339da",
   "metadata": {},
   "outputs": [],
   "source": []
  },
  {
   "cell_type": "code",
   "execution_count": null,
   "id": "6f398777",
   "metadata": {},
   "outputs": [],
   "source": []
  },
  {
   "cell_type": "code",
   "execution_count": null,
   "id": "da3fcee2",
   "metadata": {},
   "outputs": [],
   "source": []
  }
 ],
 "metadata": {
  "kernelspec": {
   "display_name": "Python 3 (ipykernel)",
   "language": "python",
   "name": "python3"
  },
  "language_info": {
   "codemirror_mode": {
    "name": "ipython",
    "version": 3
   },
   "file_extension": ".py",
   "mimetype": "text/x-python",
   "name": "python",
   "nbconvert_exporter": "python",
   "pygments_lexer": "ipython3",
   "version": "3.9.13"
  }
 },
 "nbformat": 4,
 "nbformat_minor": 5
}
